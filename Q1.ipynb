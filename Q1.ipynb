{
 "cells": [
  {
   "cell_type": "code",
   "execution_count": null,
   "id": "64355fe2",
   "metadata": {},
   "outputs": [],
   "source": [
    "import numpy as np\n",
    "import matplotlib.pyplot as plt\n",
    "# from mpl_toolkits.mplot3d import Axes3D\n",
    "# from matplotlib import animation, rc\n",
    "# from IPython.display import HTML, Image\n",
    "import datetime\n",
    "import math\n",
    "# import sys\n",
    "# import os\n",
    "import pandas as pd\n",
    "from nltk.tokenize import word_tokenize\n",
    "from nltk.corpus import stopwords\n",
    "from nltk.stem.porter import PorterStemmer\n",
    "import string\n",
    "from sklearn.metrics import confusion_matrix"
   ]
  },
  {
   "cell_type": "code",
   "execution_count": null,
   "id": "f8f5da56",
   "metadata": {
    "collapsed": true,
    "jupyter": {
     "outputs_hidden": true
    },
    "tags": []
   },
   "outputs": [
    {
     "ename": "LookupError",
     "evalue": "\n**********************************************************************\n  Resource \u001b[93mstopwords\u001b[0m not found.\n  Please use the NLTK Downloader to obtain the resource:\n\n  \u001b[31m>>> import nltk\n  >>> nltk.download('stopwords')\n  \u001b[0m\n  For more information see: https://www.nltk.org/data.html\n\n  Attempted to load \u001b[93mcorpora/stopwords\u001b[0m\n\n  Searched in:\n    - '/home/harsh/nltk_data'\n    - '/home/harsh/anaconda3/nltk_data'\n    - '/home/harsh/anaconda3/share/nltk_data'\n    - '/home/harsh/anaconda3/lib/nltk_data'\n    - '/usr/share/nltk_data'\n    - '/usr/local/share/nltk_data'\n    - '/usr/lib/nltk_data'\n    - '/usr/local/lib/nltk_data'\n**********************************************************************\n",
     "output_type": "error",
     "traceback": [
      "\u001b[0;31m---------------------------------------------------------------------------\u001b[0m",
      "\u001b[0;31mLookupError\u001b[0m                               Traceback (most recent call last)",
      "\u001b[0;32m~/anaconda3/lib/python3.8/site-packages/nltk/corpus/util.py\u001b[0m in \u001b[0;36m__load\u001b[0;34m(self)\u001b[0m\n\u001b[1;32m     83\u001b[0m                 \u001b[0;32mtry\u001b[0m\u001b[0;34m:\u001b[0m\u001b[0;34m\u001b[0m\u001b[0;34m\u001b[0m\u001b[0m\n\u001b[0;32m---> 84\u001b[0;31m                     \u001b[0mroot\u001b[0m \u001b[0;34m=\u001b[0m \u001b[0mnltk\u001b[0m\u001b[0;34m.\u001b[0m\u001b[0mdata\u001b[0m\u001b[0;34m.\u001b[0m\u001b[0mfind\u001b[0m\u001b[0;34m(\u001b[0m\u001b[0;34mf\"{self.subdir}/{zip_name}\"\u001b[0m\u001b[0;34m)\u001b[0m\u001b[0;34m\u001b[0m\u001b[0;34m\u001b[0m\u001b[0m\n\u001b[0m\u001b[1;32m     85\u001b[0m                 \u001b[0;32mexcept\u001b[0m \u001b[0mLookupError\u001b[0m\u001b[0;34m:\u001b[0m\u001b[0;34m\u001b[0m\u001b[0;34m\u001b[0m\u001b[0m\n",
      "\u001b[0;32m~/anaconda3/lib/python3.8/site-packages/nltk/data.py\u001b[0m in \u001b[0;36mfind\u001b[0;34m(resource_name, paths)\u001b[0m\n\u001b[1;32m    582\u001b[0m     \u001b[0mresource_not_found\u001b[0m \u001b[0;34m=\u001b[0m \u001b[0;34mf\"\\n{sep}\\n{msg}\\n{sep}\\n\"\u001b[0m\u001b[0;34m\u001b[0m\u001b[0;34m\u001b[0m\u001b[0m\n\u001b[0;32m--> 583\u001b[0;31m     \u001b[0;32mraise\u001b[0m \u001b[0mLookupError\u001b[0m\u001b[0;34m(\u001b[0m\u001b[0mresource_not_found\u001b[0m\u001b[0;34m)\u001b[0m\u001b[0;34m\u001b[0m\u001b[0;34m\u001b[0m\u001b[0m\n\u001b[0m\u001b[1;32m    584\u001b[0m \u001b[0;34m\u001b[0m\u001b[0m\n",
      "\u001b[0;31mLookupError\u001b[0m: \n**********************************************************************\n  Resource \u001b[93mstopwords\u001b[0m not found.\n  Please use the NLTK Downloader to obtain the resource:\n\n  \u001b[31m>>> import nltk\n  >>> nltk.download('stopwords')\n  \u001b[0m\n  For more information see: https://www.nltk.org/data.html\n\n  Attempted to load \u001b[93mcorpora/stopwords.zip/stopwords/\u001b[0m\n\n  Searched in:\n    - '/home/harsh/nltk_data'\n    - '/home/harsh/anaconda3/nltk_data'\n    - '/home/harsh/anaconda3/share/nltk_data'\n    - '/home/harsh/anaconda3/lib/nltk_data'\n    - '/usr/share/nltk_data'\n    - '/usr/local/share/nltk_data'\n    - '/usr/lib/nltk_data'\n    - '/usr/local/lib/nltk_data'\n**********************************************************************\n",
      "\nDuring handling of the above exception, another exception occurred:\n",
      "\u001b[0;31mLookupError\u001b[0m                               Traceback (most recent call last)",
      "\u001b[0;32m/tmp/ipykernel_7643/752356391.py\u001b[0m in \u001b[0;36m<module>\u001b[0;34m\u001b[0m\n\u001b[1;32m      6\u001b[0m \u001b[0mps\u001b[0m \u001b[0;34m=\u001b[0m \u001b[0mPorterStemmer\u001b[0m\u001b[0;34m(\u001b[0m\u001b[0;34m)\u001b[0m\u001b[0;34m\u001b[0m\u001b[0;34m\u001b[0m\u001b[0m\n\u001b[1;32m      7\u001b[0m \u001b[0mclass_size\u001b[0m \u001b[0;34m=\u001b[0m \u001b[0;36m4\u001b[0m\u001b[0;34m\u001b[0m\u001b[0;34m\u001b[0m\u001b[0m\n\u001b[0;32m----> 8\u001b[0;31m \u001b[0mstop_words\u001b[0m \u001b[0;34m=\u001b[0m \u001b[0mstopwords\u001b[0m\u001b[0;34m.\u001b[0m\u001b[0mwords\u001b[0m\u001b[0;34m(\u001b[0m\u001b[0;34m'english'\u001b[0m\u001b[0;34m)\u001b[0m\u001b[0;34m\u001b[0m\u001b[0;34m\u001b[0m\u001b[0m\n\u001b[0m\u001b[1;32m      9\u001b[0m \u001b[0mtable\u001b[0m \u001b[0;34m=\u001b[0m \u001b[0mstr\u001b[0m\u001b[0;34m.\u001b[0m\u001b[0mmaketrans\u001b[0m\u001b[0;34m(\u001b[0m\u001b[0;34m''\u001b[0m\u001b[0;34m,\u001b[0m \u001b[0;34m''\u001b[0m\u001b[0;34m,\u001b[0m \u001b[0mstring\u001b[0m\u001b[0;34m.\u001b[0m\u001b[0mpunctuation\u001b[0m\u001b[0;34m)\u001b[0m\u001b[0;34m\u001b[0m\u001b[0;34m\u001b[0m\u001b[0m\n",
      "\u001b[0;32m~/anaconda3/lib/python3.8/site-packages/nltk/corpus/util.py\u001b[0m in \u001b[0;36m__getattr__\u001b[0;34m(self, attr)\u001b[0m\n\u001b[1;32m    119\u001b[0m             \u001b[0;32mraise\u001b[0m \u001b[0mAttributeError\u001b[0m\u001b[0;34m(\u001b[0m\u001b[0;34m\"LazyCorpusLoader object has no attribute '__bases__'\"\u001b[0m\u001b[0;34m)\u001b[0m\u001b[0;34m\u001b[0m\u001b[0;34m\u001b[0m\u001b[0m\n\u001b[1;32m    120\u001b[0m \u001b[0;34m\u001b[0m\u001b[0m\n\u001b[0;32m--> 121\u001b[0;31m         \u001b[0mself\u001b[0m\u001b[0;34m.\u001b[0m\u001b[0m__load\u001b[0m\u001b[0;34m(\u001b[0m\u001b[0;34m)\u001b[0m\u001b[0;34m\u001b[0m\u001b[0;34m\u001b[0m\u001b[0m\n\u001b[0m\u001b[1;32m    122\u001b[0m         \u001b[0;31m# This looks circular, but its not, since __load() changes our\u001b[0m\u001b[0;34m\u001b[0m\u001b[0;34m\u001b[0m\u001b[0;34m\u001b[0m\u001b[0m\n\u001b[1;32m    123\u001b[0m         \u001b[0;31m# __class__ to something new:\u001b[0m\u001b[0;34m\u001b[0m\u001b[0;34m\u001b[0m\u001b[0;34m\u001b[0m\u001b[0m\n",
      "\u001b[0;32m~/anaconda3/lib/python3.8/site-packages/nltk/corpus/util.py\u001b[0m in \u001b[0;36m__load\u001b[0;34m(self)\u001b[0m\n\u001b[1;32m     84\u001b[0m                     \u001b[0mroot\u001b[0m \u001b[0;34m=\u001b[0m \u001b[0mnltk\u001b[0m\u001b[0;34m.\u001b[0m\u001b[0mdata\u001b[0m\u001b[0;34m.\u001b[0m\u001b[0mfind\u001b[0m\u001b[0;34m(\u001b[0m\u001b[0;34mf\"{self.subdir}/{zip_name}\"\u001b[0m\u001b[0;34m)\u001b[0m\u001b[0;34m\u001b[0m\u001b[0;34m\u001b[0m\u001b[0m\n\u001b[1;32m     85\u001b[0m                 \u001b[0;32mexcept\u001b[0m \u001b[0mLookupError\u001b[0m\u001b[0;34m:\u001b[0m\u001b[0;34m\u001b[0m\u001b[0;34m\u001b[0m\u001b[0m\n\u001b[0;32m---> 86\u001b[0;31m                     \u001b[0;32mraise\u001b[0m \u001b[0me\u001b[0m\u001b[0;34m\u001b[0m\u001b[0;34m\u001b[0m\u001b[0m\n\u001b[0m\u001b[1;32m     87\u001b[0m \u001b[0;34m\u001b[0m\u001b[0m\n\u001b[1;32m     88\u001b[0m         \u001b[0;31m# Load the corpus.\u001b[0m\u001b[0;34m\u001b[0m\u001b[0;34m\u001b[0m\u001b[0;34m\u001b[0m\u001b[0m\n",
      "\u001b[0;32m~/anaconda3/lib/python3.8/site-packages/nltk/corpus/util.py\u001b[0m in \u001b[0;36m__load\u001b[0;34m(self)\u001b[0m\n\u001b[1;32m     79\u001b[0m         \u001b[0;32melse\u001b[0m\u001b[0;34m:\u001b[0m\u001b[0;34m\u001b[0m\u001b[0;34m\u001b[0m\u001b[0m\n\u001b[1;32m     80\u001b[0m             \u001b[0;32mtry\u001b[0m\u001b[0;34m:\u001b[0m\u001b[0;34m\u001b[0m\u001b[0;34m\u001b[0m\u001b[0m\n\u001b[0;32m---> 81\u001b[0;31m                 \u001b[0mroot\u001b[0m \u001b[0;34m=\u001b[0m \u001b[0mnltk\u001b[0m\u001b[0;34m.\u001b[0m\u001b[0mdata\u001b[0m\u001b[0;34m.\u001b[0m\u001b[0mfind\u001b[0m\u001b[0;34m(\u001b[0m\u001b[0;34mf\"{self.subdir}/{self.__name}\"\u001b[0m\u001b[0;34m)\u001b[0m\u001b[0;34m\u001b[0m\u001b[0;34m\u001b[0m\u001b[0m\n\u001b[0m\u001b[1;32m     82\u001b[0m             \u001b[0;32mexcept\u001b[0m \u001b[0mLookupError\u001b[0m \u001b[0;32mas\u001b[0m \u001b[0me\u001b[0m\u001b[0;34m:\u001b[0m\u001b[0;34m\u001b[0m\u001b[0;34m\u001b[0m\u001b[0m\n\u001b[1;32m     83\u001b[0m                 \u001b[0;32mtry\u001b[0m\u001b[0;34m:\u001b[0m\u001b[0;34m\u001b[0m\u001b[0;34m\u001b[0m\u001b[0m\n",
      "\u001b[0;32m~/anaconda3/lib/python3.8/site-packages/nltk/data.py\u001b[0m in \u001b[0;36mfind\u001b[0;34m(resource_name, paths)\u001b[0m\n\u001b[1;32m    581\u001b[0m     \u001b[0msep\u001b[0m \u001b[0;34m=\u001b[0m \u001b[0;34m\"*\"\u001b[0m \u001b[0;34m*\u001b[0m \u001b[0;36m70\u001b[0m\u001b[0;34m\u001b[0m\u001b[0;34m\u001b[0m\u001b[0m\n\u001b[1;32m    582\u001b[0m     \u001b[0mresource_not_found\u001b[0m \u001b[0;34m=\u001b[0m \u001b[0;34mf\"\\n{sep}\\n{msg}\\n{sep}\\n\"\u001b[0m\u001b[0;34m\u001b[0m\u001b[0;34m\u001b[0m\u001b[0m\n\u001b[0;32m--> 583\u001b[0;31m     \u001b[0;32mraise\u001b[0m \u001b[0mLookupError\u001b[0m\u001b[0;34m(\u001b[0m\u001b[0mresource_not_found\u001b[0m\u001b[0;34m)\u001b[0m\u001b[0;34m\u001b[0m\u001b[0;34m\u001b[0m\u001b[0m\n\u001b[0m\u001b[1;32m    584\u001b[0m \u001b[0;34m\u001b[0m\u001b[0m\n\u001b[1;32m    585\u001b[0m \u001b[0;34m\u001b[0m\u001b[0m\n",
      "\u001b[0;31mLookupError\u001b[0m: \n**********************************************************************\n  Resource \u001b[93mstopwords\u001b[0m not found.\n  Please use the NLTK Downloader to obtain the resource:\n\n  \u001b[31m>>> import nltk\n  >>> nltk.download('stopwords')\n  \u001b[0m\n  For more information see: https://www.nltk.org/data.html\n\n  Attempted to load \u001b[93mcorpora/stopwords\u001b[0m\n\n  Searched in:\n    - '/home/harsh/nltk_data'\n    - '/home/harsh/anaconda3/nltk_data'\n    - '/home/harsh/anaconda3/share/nltk_data'\n    - '/home/harsh/anaconda3/lib/nltk_data'\n    - '/usr/share/nltk_data'\n    - '/usr/local/share/nltk_data'\n    - '/usr/lib/nltk_data'\n    - '/usr/local/lib/nltk_data'\n**********************************************************************\n"
     ]
    }
   ],
   "source": [
    "#Initializations\n",
    "path = './reviews_Digital_Music_5.json/Music_Review_train.json'\n",
    "test_path = './reviews_Digital_Music_5.json/Music_Review_test.json'\n",
    "data = None\n",
    "vocab = set()\n",
    "ps = PorterStemmer()\n",
    "class_size = 4\n",
    "stop_words = stopwords.words('english')\n",
    "table = str.maketrans('', '', string.punctuation)"
   ]
  },
  {
   "cell_type": "code",
   "execution_count": 6,
   "id": "2b7dd33e",
   "metadata": {},
   "outputs": [],
   "source": [
    "def read_it(path):\n",
    "    data = {}\n",
    "    with open(path) as f:\n",
    "        i =0\n",
    "        for l in f:\n",
    "            data[i] = eval(l)\n",
    "            i += 1\n",
    "    return pd.DataFrame.from_dict(data, orient='index')"
   ]
  },
  {
   "cell_type": "code",
   "execution_count": 7,
   "id": "3b801153",
   "metadata": {},
   "outputs": [
    {
     "name": "stdout",
     "output_type": "stream",
     "text": [
      "(50000, 9)\n"
     ]
    }
   ],
   "source": [
    "data = read_it(path)\n",
    "print(data.shape)"
   ]
  },
  {
   "cell_type": "code",
   "execution_count": 8,
   "id": "e3cbff06",
   "metadata": {
    "scrolled": true
   },
   "outputs": [
    {
     "data": {
      "text/html": [
       "<div>\n",
       "<style scoped>\n",
       "    .dataframe tbody tr th:only-of-type {\n",
       "        vertical-align: middle;\n",
       "    }\n",
       "\n",
       "    .dataframe tbody tr th {\n",
       "        vertical-align: top;\n",
       "    }\n",
       "\n",
       "    .dataframe thead th {\n",
       "        text-align: right;\n",
       "    }\n",
       "</style>\n",
       "<table border=\"1\" class=\"dataframe\">\n",
       "  <thead>\n",
       "    <tr style=\"text-align: right;\">\n",
       "      <th></th>\n",
       "      <th>reviewerID</th>\n",
       "      <th>asin</th>\n",
       "      <th>reviewerName</th>\n",
       "      <th>helpful</th>\n",
       "      <th>reviewText</th>\n",
       "      <th>overall</th>\n",
       "      <th>summary</th>\n",
       "      <th>unixReviewTime</th>\n",
       "      <th>reviewTime</th>\n",
       "    </tr>\n",
       "  </thead>\n",
       "  <tbody>\n",
       "    <tr>\n",
       "      <th>0</th>\n",
       "      <td>AKFE1P1ZDBPXU</td>\n",
       "      <td>B000002IWQ</td>\n",
       "      <td>M. B. Link \"wildfirelink\"</td>\n",
       "      <td>[4, 5]</td>\n",
       "      <td>Counterparts(1993). Rush's fifteenth studio al...</td>\n",
       "      <td>4.0</td>\n",
       "      <td>Underrated and Overrated Simultaneously</td>\n",
       "      <td>1067904000</td>\n",
       "      <td>11 4, 2003</td>\n",
       "    </tr>\n",
       "    <tr>\n",
       "      <th>1</th>\n",
       "      <td>A10CBLMJD1OQL7</td>\n",
       "      <td>B000002IWQ</td>\n",
       "      <td>mcmahonryan@hotmail.com</td>\n",
       "      <td>[0, 0]</td>\n",
       "      <td>You have to ask yourself why, in 1998, there a...</td>\n",
       "      <td>4.0</td>\n",
       "      <td>Rush continues to reinvent itself</td>\n",
       "      <td>900633600</td>\n",
       "      <td>07 17, 1998</td>\n",
       "    </tr>\n",
       "    <tr>\n",
       "      <th>2</th>\n",
       "      <td>A331OF34UX4Y1K</td>\n",
       "      <td>B000002IWQ</td>\n",
       "      <td>M. Fonseca \"carmarthen\"</td>\n",
       "      <td>[2, 9]</td>\n",
       "      <td>I've bought this CD a long time ago and until ...</td>\n",
       "      <td>2.0</td>\n",
       "      <td>THE WEAKEST RUSH ALBUM EVER !</td>\n",
       "      <td>944006400</td>\n",
       "      <td>12 1, 1999</td>\n",
       "    </tr>\n",
       "    <tr>\n",
       "      <th>3</th>\n",
       "      <td>A18IZ5QX2PRB3C</td>\n",
       "      <td>B000002IWQ</td>\n",
       "      <td>Michael Stack</td>\n",
       "      <td>[80, 83]</td>\n",
       "      <td>I am often in the minority in my view of this,...</td>\n",
       "      <td>5.0</td>\n",
       "      <td>Rush's '90s masterpiece.</td>\n",
       "      <td>1111536000</td>\n",
       "      <td>03 23, 2005</td>\n",
       "    </tr>\n",
       "    <tr>\n",
       "      <th>4</th>\n",
       "      <td>A2H22I2RWE0HOV</td>\n",
       "      <td>B000002IWQ</td>\n",
       "      <td>Mr. Sinister</td>\n",
       "      <td>[3, 6]</td>\n",
       "      <td>The first thing that becomes apparent as soon ...</td>\n",
       "      <td>4.0</td>\n",
       "      <td>Counterparts Shifts The Rush Sound Once Again</td>\n",
       "      <td>1184025600</td>\n",
       "      <td>07 10, 2007</td>\n",
       "    </tr>\n",
       "  </tbody>\n",
       "</table>\n",
       "</div>"
      ],
      "text/plain": [
       "       reviewerID        asin               reviewerName   helpful  \\\n",
       "0   AKFE1P1ZDBPXU  B000002IWQ  M. B. Link \"wildfirelink\"    [4, 5]   \n",
       "1  A10CBLMJD1OQL7  B000002IWQ    mcmahonryan@hotmail.com    [0, 0]   \n",
       "2  A331OF34UX4Y1K  B000002IWQ    M. Fonseca \"carmarthen\"    [2, 9]   \n",
       "3  A18IZ5QX2PRB3C  B000002IWQ              Michael Stack  [80, 83]   \n",
       "4  A2H22I2RWE0HOV  B000002IWQ               Mr. Sinister    [3, 6]   \n",
       "\n",
       "                                          reviewText  overall  \\\n",
       "0  Counterparts(1993). Rush's fifteenth studio al...      4.0   \n",
       "1  You have to ask yourself why, in 1998, there a...      4.0   \n",
       "2  I've bought this CD a long time ago and until ...      2.0   \n",
       "3  I am often in the minority in my view of this,...      5.0   \n",
       "4  The first thing that becomes apparent as soon ...      4.0   \n",
       "\n",
       "                                         summary  unixReviewTime   reviewTime  \n",
       "0        Underrated and Overrated Simultaneously      1067904000   11 4, 2003  \n",
       "1              Rush continues to reinvent itself       900633600  07 17, 1998  \n",
       "2                  THE WEAKEST RUSH ALBUM EVER !       944006400   12 1, 1999  \n",
       "3                       Rush's '90s masterpiece.      1111536000  03 23, 2005  \n",
       "4  Counterparts Shifts The Rush Sound Once Again      1184025600  07 10, 2007  "
      ]
     },
     "execution_count": 8,
     "metadata": {},
     "output_type": "execute_result"
    }
   ],
   "source": [
    "#remove later\n",
    "data.head()"
   ]
  },
  {
   "cell_type": "code",
   "execution_count": 9,
   "id": "b8bc7e20",
   "metadata": {},
   "outputs": [],
   "source": [
    "# import nltk\n",
    "# nltk.download('punkt')\n",
    "#nltk.download('stopwords')"
   ]
  },
  {
   "cell_type": "code",
   "execution_count": 10,
   "id": "8dd433a1",
   "metadata": {},
   "outputs": [],
   "source": [
    "def tokenize(review_string, stop_words= stop_words, table = table):\n",
    "    tokens = word_tokenize(review_string)\n",
    "    tokens = [token.lower() for token in tokens]\n",
    "    #tokens = [token.translate(table) for token in tokens]## change it back\n",
    "    words = [token for token in tokens if token.isalpha() and len(token)>=1] ## check with >= 1 as well\n",
    "    #words = [ps.stem(word) for word in words if not word in stop_words]\n",
    "    return words"
   ]
  },
  {
   "cell_type": "code",
   "execution_count": 11,
   "id": "6841a143",
   "metadata": {
    "scrolled": true
   },
   "outputs": [
    {
     "name": "stdout",
     "output_type": "stream",
     "text": [
      "Time Taken to make Term Dictionary: 0:04:43.068963\n"
     ]
    }
   ],
   "source": [
    "term_dict_by_class = {}\n",
    "docs_in_class = {} \n",
    "t1 = datetime.datetime.now()\n",
    "def make_term_dict():\n",
    "    global vocab\n",
    "    global stop_words\n",
    "    reviews_by_class = {}\n",
    "    term_dict_by_class = {}\n",
    "    \n",
    "    table = str.maketrans('', '', string.punctuation)\n",
    "    \n",
    "    for review, label in zip(data['reviewText'],data['overall']):\n",
    "        words = tokenize(review, stop_words, table)\n",
    "        \n",
    "        ##Counting the docs in respective class\n",
    "        if label not in docs_in_class:\n",
    "            docs_in_class[label]=0\n",
    "        docs_in_class[label] += 1\n",
    "        \n",
    "        for word in words:\n",
    "            if label not in term_dict_by_class:\n",
    "                term_dict_by_class[label] = {}\n",
    "            if word not in term_dict_by_class[label]:\n",
    "                term_dict_by_class[label][word] = 0\n",
    "            #print(word, end=\"-\")\n",
    "            term_dict_by_class[label][word] += 1\n",
    "        \n",
    "        if label not in reviews_by_class:\n",
    "            reviews_by_class[label] = []\n",
    "        reviews_by_class[label].append(words)\n",
    "        \n",
    "        vocab = vocab | set(words)\n",
    "        #print(term_dict_by_class)\n",
    "        \n",
    "    return term_dict_by_class\n",
    "term_dict_by_class = make_term_dict()\n",
    "t2 = datetime.datetime.now()\n",
    "print('Time Taken to make Term Dictionary:', t2 - t1)"
   ]
  },
  {
   "cell_type": "code",
   "execution_count": 12,
   "id": "9b5ec71a",
   "metadata": {
    "scrolled": true
   },
   "outputs": [
    {
     "name": "stdout",
     "output_type": "stream",
     "text": [
      "{1.0, 2.0, 3.0, 4.0, 5.0}\n",
      "4.0 13267\n",
      "2.0 2638\n",
      "5.0 25932\n",
      "1.0 2529\n",
      "3.0 5634\n"
     ]
    }
   ],
   "source": [
    "print(set(term_dict_by_class))\n",
    "for d in docs_in_class:\n",
    "    print(d, docs_in_class[d])"
   ]
  },
  {
   "cell_type": "code",
   "execution_count": 13,
   "id": "25b94303",
   "metadata": {},
   "outputs": [
    {
     "name": "stdout",
     "output_type": "stream",
     "text": [
      "90061\n"
     ]
    }
   ],
   "source": [
    "print(len(vocab))"
   ]
  },
  {
   "cell_type": "code",
   "execution_count": 34,
   "id": "e7f209e1",
   "metadata": {},
   "outputs": [],
   "source": [
    "from random import seed\n",
    "from random import randint\n",
    "class NaiveBayes:\n",
    "    \n",
    "    def __init__(self):\n",
    "        self.theta = {}\n",
    "        self.prior = {}\n",
    "        self.class_labels = []\n",
    "        self.freq_count = {}\n",
    "        self.alpha = 1\n",
    "    \n",
    "    def model_parameters(self, term_dict_by_class, docs_in_class, alpha):\n",
    "        theta = {}\n",
    "        prior = {}\n",
    "        self.alpha = alpha\n",
    "        total_docs = 0\n",
    "        #class_labels = [1.0, 2.0, 3.0, 4.0, 5.0]\n",
    "        self.class_labels = list(set(term_dict_by_class))\n",
    "        for k in self.class_labels:\n",
    "            #Counting total documents\n",
    "            total_docs += docs_in_class[k]\n",
    "            \n",
    "            #Calculating frequency for each term of a class_label\n",
    "            self.freq_count[k] = 0\n",
    "            for term in vocab:\n",
    "                if term in term_dict_by_class[k]:\n",
    "                    self.freq_count[k] += term_dict_by_class[k][term]\n",
    "        \n",
    "        #Calculating Thetas\n",
    "        for k in self.class_labels:\n",
    "            theta[k] = {}\n",
    "            for term in vocab:\n",
    "                if term in term_dict_by_class[k]:\n",
    "                    theta[k][term] = term_dict_by_class[k][term] + alpha\n",
    "                    theta[k][term] = math.log(theta[k][term]) - math.log(self.freq_count[k] + alpha*len(vocab))\n",
    "                else:\n",
    "                    theta[k][term] = math.log(alpha) - math.log(self.freq_count[k] + alpha*len(vocab))\n",
    "        \n",
    "        #Calculating Priors\n",
    "        for k in self.class_labels:\n",
    "            prior[k] = math.log(docs_in_class[k]/total_docs)\n",
    "\n",
    "        print('theta shape',len(theta))\n",
    "        print('prior:', prior)\n",
    "        return theta, prior\n",
    "    \n",
    "    def learn(self, term_dict_by_class,docs_in_class, alpha):\n",
    "        self.theta, self.prior = self.model_parameters(term_dict_by_class,docs_in_class, alpha)\n",
    "        return self.theta, self.prior\n",
    "    \n",
    "    def calc_accuracy(self, predictions, labels):\n",
    "        correct = 0\n",
    "        for p,l in zip(predictions, labels):\n",
    "            if( p == l):\n",
    "                correct +=1\n",
    "        return correct*100/len(predictions)\n",
    "    \n",
    "    def predict(self, reviews, labels=[]):\n",
    "        table = str.maketrans('', '', string.punctuation)\n",
    "        overall_ratings = []*len(reviews)\n",
    "        result = [{}]*len(reviews)\n",
    "        final_result = []\n",
    "        for review,i in zip(reviews, range(len(reviews))):\n",
    "            \n",
    "            words = tokenize(review, stop_words, table)\n",
    "            \n",
    "            for k in self.class_labels:\n",
    "                result[i][k] = self.prior[k]\n",
    "                for word in words:\n",
    "                    #Handling new words in test case\n",
    "                    if word in self.theta[k]:\n",
    "                        result[i][k] += self.theta[k][word]\n",
    "                    else:\n",
    "                        result[i][k] += math.log(self.alpha/(self.freq_count[k] + self.alpha*len(vocab)))\n",
    "            \n",
    "            max_result_val = result[i][1.0]\n",
    "            final_class = 1.0\n",
    "            for k in self.class_labels:\n",
    "                if result[i][k] > max_result_val:\n",
    "                    final_class = k\n",
    "                    max_result_val = result[i][k]\n",
    "            \n",
    "            #print(final_class)#, ':', max_result_val, end = ' ')\n",
    "            final_result.append(final_class)\n",
    "        if len(reviews) == len(labels):\n",
    "            print('Accuracy: ',self.calc_accuracy(final_result, labels),'%')\n",
    "            #self.confusion_matrix(final_result, labels)\n",
    "            self.f1_score(final_result, labels)\n",
    "        return final_result, result\n",
    "    \n",
    "    def random_prediction(self, reviews, labels=[]):\n",
    "        seed(1)\n",
    "        final_result = []\n",
    "        for review in reviews:\n",
    "            rand_index = randint(0,4)\n",
    "            final_result.append(self.class_labels[rand_index])\n",
    "        if len(final_result) == len(labels):\n",
    "            print('Accuracy:', self.calc_accuracy(final_result, labels))\n",
    "            self.f1_score(final_result, labels)\n",
    "        return final_result\n",
    "    \n",
    "    def majority_prediction(self, reviews, labels=[], docs_in_class = []):\n",
    "        print(self.freq_count)\n",
    "        max_freq = 0\n",
    "        max_label = 0\n",
    "        for d in docs_in_class:\n",
    "            if docs_in_class[d] > max_freq:\n",
    "                max_freq = docs_in_class[d]\n",
    "                max_label = d\n",
    "        final_result = [max_label]*len(reviews)\n",
    "        print('Most Occurring label:', max_label)\n",
    "        if len(final_result) == len(labels):\n",
    "            print('Accuracy:', self.calc_accuracy(final_result, labels))\n",
    "            #self.confusion_matrix(final_result, labels)\n",
    "            self.f1_score(final_result, labels)\n",
    "        return final_result\n",
    "    \n",
    "    def confusion_matrix(self, predictions, labels):\n",
    "        n = len(self.class_labels)\n",
    "        conf_matrix = [[0 for i in range(n)] for j in range(n)]\n",
    "        for p, l in zip(predictions, labels):\n",
    "            conf_matrix[int(l)- 1][int(p)- 1] +=1\n",
    "        \n",
    "        fig, ax = plt.subplots(figsize=(7.5, 7.5))\n",
    "        ax.matshow(conf_matrix, cmap=plt.cm.Blues, alpha=0.9)\n",
    "        for i in range(len(conf_matrix)):\n",
    "            for j in range(len(conf_matrix[0])):\n",
    "                ax.text(x=j, y=i,s=conf_matrix[i][j], va='center', ha='center', size='xx-large')\n",
    "        plt.xlabel('Predictions', fontsize=18)\n",
    "        plt.ylabel('Actuals', fontsize=18)\n",
    "        plt.title('Confusion Matrix', fontsize=18)\n",
    "        plt.show()\n",
    "        return conf_matrix\n",
    "    \n",
    "    def f1_score(self, prediction, labels):\n",
    "        n = len(self.class_labels)\n",
    "        precision = [0]*n\n",
    "        recall = [0]*n\n",
    "        f1_s = [0]*n\n",
    "        conf_matrix = self.confusion_matrix(prediction, labels)\n",
    "        for i in range(n):\n",
    "            total_row = 0\n",
    "            total_col = 0\n",
    "            for j in range(n):\n",
    "                total_row += conf_matrix[i][j]\n",
    "                total_col += conf_matrix[j][i]\n",
    "            if total_col != 0:\n",
    "                precision[i] = conf_matrix[i][i]/total_col\n",
    "            if total_row != 0:\n",
    "                recall[i] = conf_matrix[i][i]/total_row\n",
    "            if precision[i] != 0 or recall[i] != 0:\n",
    "                f1_s[i] = 2 * precision[i]*recall[i]/(precision[i] + recall[i])\n",
    "        print('F1 Score for classes:')\n",
    "        for i in range(n):\n",
    "            print(self.class_labels[i], ':', f1_s[i])\n",
    "        return f1_s\n",
    "            "
   ]
  },
  {
   "cell_type": "code",
   "execution_count": 37,
   "id": "7b92ac16",
   "metadata": {},
   "outputs": [
    {
     "name": "stdout",
     "output_type": "stream",
     "text": [
      "theta shape 5\n",
      "prior: {1.0: -2.984199037740318, 2.0: -2.9420019511330233, 3.0: -2.1832033359739653, 4.0: -1.3267432564933663, 5.0: -0.6565452781153969}\n",
      "0:00:00.636719\n"
     ]
    }
   ],
   "source": [
    "#Train the model i.e get the parameters thetas and prior\n",
    "t3 = datetime.datetime.now()\n",
    "nb = NaiveBayes()\n",
    "_, _ = nb.learn(term_dict_by_class, docs_in_class, 1)\n",
    "print(datetime.datetime.now() - t3)"
   ]
  },
  {
   "cell_type": "code",
   "execution_count": 38,
   "id": "d5ff1b2a",
   "metadata": {},
   "outputs": [
    {
     "name": "stdout",
     "output_type": "stream",
     "text": [
      "Accuracy:  76.51 %\n"
     ]
    },
    {
     "data": {
      "image/png": "[encoded data removed]",
      "text/plain": [
       "<Figure size 540x540 with 1 Axes>"
      ]
     },
     "metadata": {
      "needs_background": "light"
     },
     "output_type": "display_data"
    },
    {
     "name": "stdout",
     "output_type": "stream",
     "text": [
      "F1 Score for classes:\n",
      "1.0 : 0.33076923076923076\n",
      "2.0 : 0.20454545454545453\n",
      "3.0 : 0.3979328165374677\n",
      "4.0 : 0.5546172704985018\n",
      "5.0 : 0.8687826325913712\n",
      "Time Taken: 0:00:18.122185\n"
     ]
    }
   ],
   "source": [
    "##Testing accuracy on train dataset\n",
    "t4 = datetime.datetime.now()\n",
    "_, _ = nb.predict(data['reviewText'][0:10000], data['overall'][0:10000])\n",
    "print('Time Taken:',datetime.datetime.now() - t4)"
   ]
  },
  {
   "cell_type": "code",
   "execution_count": 39,
   "id": "ee895688",
   "metadata": {},
   "outputs": [],
   "source": [
    "##Reading Test data \n",
    "test_data = read_it(test_path)"
   ]
  },
  {
   "cell_type": "code",
   "execution_count": 28,
   "id": "1a4a2b63",
   "metadata": {},
   "outputs": [
    {
     "name": "stdout",
     "output_type": "stream",
     "text": [
      "Accuracy:  60.57857142857143 %\n"
     ]
    },
    {
     "data": {
      "image/png": "[encoded data removed]",
      "text/plain": [
       "<Figure size 540x540 with 1 Axes>"
      ]
     },
     "metadata": {
      "needs_background": "light"
     },
     "output_type": "display_data"
    },
    {
     "name": "stdout",
     "output_type": "stream",
     "text": [
      "F1 Score for classes:\n",
      "1.0 : 0.20242914979757085\n",
      "2.0 : 0.12755102040816324\n",
      "3.0 : 0.24483775811209443\n",
      "4.0 : 0.3182527301092044\n",
      "5.0 : 0.7700299914310196\n",
      "0:00:25.160840\n"
     ]
    }
   ],
   "source": [
    "##Testing accuracy on test dataset\n",
    "t5 = datetime.datetime.now()\n",
    "_, _ = nb.predict(test_data['reviewText'], test_data['overall'])\n",
    "print('Time Taken:',datetime.datetime.now() - t5)"
   ]
  },
  {
   "cell_type": "code",
   "execution_count": 29,
   "id": "11ca0523",
   "metadata": {},
   "outputs": [
    {
     "name": "stdout",
     "output_type": "stream",
     "text": [
      "Accuracy: 20.032\n"
     ]
    },
    {
     "data": {
      "image/png": "[encoded data removed]",
      "text/plain": [
       "<Figure size 540x540 with 1 Axes>"
      ]
     },
     "metadata": {
      "needs_background": "light"
     },
     "output_type": "display_data"
    },
    {
     "name": "stdout",
     "output_type": "stream",
     "text": [
      "F1 Score for classes:\n",
      "1.0 : 0.07638944262817957\n",
      "2.0 : 0.08622320302648172\n",
      "3.0 : 0.1460420032310178\n",
      "4.0 : 0.2275259233867512\n",
      "5.0 : 0.28950442182546304\n",
      "0:00:00.369976\n"
     ]
    }
   ],
   "source": [
    "##Using Random Predictions\n",
    "t6 = datetime.datetime.now()\n",
    "_ = nb.random_prediction(data['reviewText'], data['overall'])\n",
    "print(datetime.datetime.now() - t6)"
   ]
  },
  {
   "cell_type": "code",
   "execution_count": 36,
   "id": "cba796d2",
   "metadata": {},
   "outputs": [
    {
     "name": "stdout",
     "output_type": "stream",
     "text": [
      "{1.0: 322796, 2.0: 462949, 3.0: 1158958, 4.0: 2837186, 5.0: 4864005}\n",
      "Most Occurring label: 5.0\n",
      "Accuracy: 66.08571428571429\n"
     ]
    },
    {
     "data": {
      "image/png": "[encoded data removed]",
      "text/plain": [
       "<Figure size 540x540 with 1 Axes>"
      ]
     },
     "metadata": {
      "needs_background": "light"
     },
     "output_type": "display_data"
    },
    {
     "name": "stdout",
     "output_type": "stream",
     "text": [
      "F1 Score for classes:\n",
      "1.0 : 0\n",
      "2.0 : 0\n",
      "3.0 : 0\n",
      "4.0 : 0\n",
      "5.0 : 0.7958025116119043\n"
     ]
    }
   ],
   "source": [
    "##Using Majority as prediction\n",
    "_ = nb.majority_prediction(test_data['reviewText'], test_data['overall'], docs_in_class)"
   ]
  },
  {
   "cell_type": "code",
   "execution_count": 221,
   "id": "1a2129a9",
   "metadata": {},
   "outputs": [
    {
     "name": "stdout",
     "output_type": "stream",
     "text": [
      "[[2], [2], [2]]\n"
     ]
    }
   ],
   "source": []
  },
  {
   "cell_type": "code",
   "execution_count": null,
   "id": "765d718c",
   "metadata": {},
   "outputs": [],
   "source": []
  }
 ],
 "metadata": {
  "kernelspec": {
   "display_name": "Python 3 (ipykernel)",
   "language": "python",
   "name": "python3"
  },
  "language_info": {
   "codemirror_mode": {
    "name": "ipython",
    "version": 3
   },
   "file_extension": ".py",
   "mimetype": "text/x-python",
   "name": "python",
   "nbconvert_exporter": "python",
   "pygments_lexer": "ipython3",
   "version": "3.8.8"
  }
 },
 "nbformat": 4,
 "nbformat_minor": 5
}
